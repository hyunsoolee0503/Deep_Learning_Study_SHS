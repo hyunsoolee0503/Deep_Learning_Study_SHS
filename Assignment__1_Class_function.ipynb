{
  "nbformat": 4,
  "nbformat_minor": 0,
  "metadata": {
    "colab": {
      "provenance": []
    },
    "kernelspec": {
      "name": "python3",
      "display_name": "Python 3"
    },
    "language_info": {
      "name": "python"
    }
  },
  "cells": [
    {
      "cell_type": "markdown",
      "source": [
        "Quiz 1. Image calculator 만들기\n",
        "\n",
        "동일한 크기의 컬러 이미지 중 RGB 채널 중 원하는 채널을 선택하여 Image 끼리 더하고, 빼고, 숫자를 곱하거나 나눌 수 있는 사칙연산을 구현 하시오.\n",
        "\n",
        "상기 구현한 결과를 각각 사칙연산을 할 수 있는 함수로 구현한 후 구현한 함수를 포함하여\n",
        "\n",
        "Image_calculator라는 Class를 만들어 보시오."
      ],
      "metadata": {
        "id": "5-lPVS6713U1"
      }
    },
    {
      "cell_type": "code",
      "source": [
        "import numpy as np\n",
        "\n",
        "class Image_calculator:\n",
        "  def __init(self):\n",
        "      self.img1 = img1\n",
        "      self.img2 = img2\n",
        "      self.ch = ch\n",
        "      self.scale = scale\n",
        "\n",
        "  def Add(self):\n",
        "      img1_ch = self.img1[:,:,self.ch]\n",
        "      Img2_ch = self.img2[:,:,self.ch]\n",
        "      result = np.add(img1_ch,img2_ch)\n",
        "      return result\n",
        "\n",
        "  def Subtract(self):\n",
        "      img1_ch = self.img1[:,:,self.ch]\n",
        "      img2_ch = self.img2[:,:,self.ch]\n",
        "      result = np.subtract(img1_ch,img2_ch)\n",
        "      return result\n",
        "\n",
        "  def Multiply(self):\n",
        "      img1_ch = self.img1[:,:,self.ch]\n",
        "      result = np.multiply(img1_ch,self.scale)\n",
        "      return result\n",
        "\n",
        "  def Divide(self):\n",
        "      img1_ch = self.img1[:,:,self.ch]\n",
        "      result = np.divide(img1_ch,self.scale)\n",
        "      return result"
      ],
      "metadata": {
        "id": "7MiSVgLa3XGJ"
      },
      "execution_count": null,
      "outputs": []
    },
    {
      "cell_type": "code",
      "source": [
        "ImgA = img.imread(images_path + '/siemens_aunt.png')\n",
        "ImgA_arr = np.array(ImgA)\n",
        "ImgB = img.imread(images_path + '/siemens_aunt.png')\n",
        "ImgB_arr = np.array(ImgB)\n",
        "ch = 1\n",
        "const = 3\n",
        "I = Image_calculator()\n",
        "I.img1 = ImgA\n",
        "I.img2 = ImgB\n",
        "I.ch = ch\n",
        "I.scale = const\n",
        "\n",
        "I.Add()\n",
        "I.Subtract()\n",
        "I.Multiply()\n",
        "I.Divide()"
      ],
      "metadata": {
        "id": "UanIwg7y2SLz"
      },
      "execution_count": null,
      "outputs": []
    },
    {
      "cell_type": "code",
      "source": [],
      "metadata": {
        "id": "GhJYqfSS3VtY"
      },
      "execution_count": null,
      "outputs": []
    }
  ]
}
